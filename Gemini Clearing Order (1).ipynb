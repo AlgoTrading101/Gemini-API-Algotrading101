{
 "cells": [
  {
   "cell_type": "code",
   "execution_count": null,
   "metadata": {},
   "outputs": [],
   "source": [
    "import json\n",
    "import hmac\n",
    "import base64\n",
    "import requests\n",
    "import hashlib\n",
    "import datetime, time\n",
    "\n",
    "base_url = \"https://api.gemini.com\"\n",
    "endpoint = \"/v1/clearing/new\"\n",
    "url = base_url + endpoint\n",
    "\n",
    "gemini_api_key = \"YOUR-API-KEY-HERE\"\n",
    "gemini_api_secret = \"YOUR-SECRET-KEY-HERE\".encode()\n",
    "counterparty_id = \"COUNTERPARTY-ID-HERE\"\n",
    "t = datetime.datetime.now()\n",
    "payload_nonce =  str(int(time.mktime(t.timetuple())))\n",
    "\n",
    "payload = {\n",
    "    \"request\": endpoint,\n",
    "    \"nonce\": payload_nonce,\n",
    "    \"counterparty_id\": counterparty_id,\n",
    "    \"expires_in_hrs\": 24,\n",
    "    \"symbol\": \"ethusd\",\n",
    "    \"amount\": \"20\",\n",
    "    \"price\": \"9000.00\",\n",
    "    \"side\": \"buy\"\n",
    "}\n",
    "\n",
    "encoded_payload = json.dumps(payload).encode()\n",
    "b64 = base64.b64encode(encoded_payload)\n",
    "signature = hmac.new(gemini_api_secret, b64, hashlib.sha384).hexdigest()\n",
    "\n",
    "request_headers = { 'Content-Type': \"text/plain\",\n",
    "                    'Content-Length': \"0\",\n",
    "                    'X-GEMINI-APIKEY': gemini_api_key,\n",
    "                    'X-GEMINI-PAYLOAD': b64,\n",
    "                    'X-GEMINI-SIGNATURE': signature,\n",
    "                    'Cache-Control': \"no-cache\" }\n",
    "\n",
    "response = requests.post(url,\n",
    "                        data=None,\n",
    "                        headers=request_headers)\n",
    "\n",
    "new_clearing_order = response.json()\n",
    "print(new_clearing_order)"
   ]
  }
 ],
 "metadata": {
  "kernelspec": {
   "display_name": "Python 3",
   "language": "python",
   "name": "python3"
  },
  "language_info": {
   "codemirror_mode": {
    "name": "ipython",
    "version": 3
   },
   "file_extension": ".py",
   "mimetype": "text/x-python",
   "name": "python",
   "nbconvert_exporter": "python",
   "pygments_lexer": "ipython3",
   "version": "3.8.3"
  }
 },
 "nbformat": 4,
 "nbformat_minor": 4
}
