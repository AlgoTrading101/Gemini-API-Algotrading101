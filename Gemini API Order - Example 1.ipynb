{
 "cells": [
  {
   "cell_type": "code",
   "execution_count": 1,
   "metadata": {},
   "outputs": [],
   "source": [
    "import requests\n",
    "import hmac\n",
    "import json\n",
    "import base64\n",
    "import hashlib\n",
    "import pandas as pd\n",
    "import datetime, time\n",
    "from time import sleep"
   ]
  },
  {
   "cell_type": "code",
   "execution_count": 2,
   "metadata": {},
   "outputs": [],
   "source": [
    "base_url = \"https://api.sandbox.gemini.com\"\n",
    "endpoint = \"/v1/order/new\"\n",
    "url = base_url + endpoint"
   ]
  },
  {
   "cell_type": "code",
   "execution_count": 3,
   "metadata": {},
   "outputs": [],
   "source": [
    "gemini_api_key = \"master-2rJeGEcrQbx6OKXvSvLR\"\n",
    "gemini_api_secret = \"CZTk6cmFZgVPSnoHij22LZNFZ3S\".encode()"
   ]
  },
  {
   "cell_type": "code",
   "execution_count": 9,
   "metadata": {},
   "outputs": [],
   "source": [
    "def Auth(payload):\n",
    "    \n",
    "    encoded_payload = json.dumps(payload).encode()\n",
    "    b64 = base64.b64encode(encoded_payload)\n",
    "    signature = hmac.new(gemini_api_secret, b64, hashlib.sha384).hexdigest()\n",
    "\n",
    "    request_headers = { 'Content-Type': \"text/plain\",\n",
    "                'Content-Length': \"0\",\n",
    "                'X-GEMINI-APIKEY': gemini_api_key,\n",
    "                'X-GEMINI-PAYLOAD': b64,\n",
    "                'X-GEMINI-SIGNATURE': signature,\n",
    "                'Cache-Control': \"no-cache\" }\n",
    "    return(request_headers)"
   ]
  },
  {
   "cell_type": "code",
   "execution_count": 15,
   "metadata": {},
   "outputs": [
    {
     "name": "stdout",
     "output_type": "stream",
     "text": [
      "38236.1\n",
      "2630.55\n",
      "{'order_id': '904647140', 'id': '904647140', 'symbol': 'ethusd', 'exchange': 'gemini', 'avg_execution_price': '0.00', 'side': 'buy', 'type': 'exchange limit', 'timestamp': '1621450413', 'timestampms': 1621450413500, 'is_live': True, 'is_cancelled': False, 'is_hidden': False, 'was_forced': False, 'executed_amount': '0', 'options': [], 'price': '2630.55', 'original_amount': '1', 'remaining_amount': '1'}\n",
      "{'order_id': '904647140', 'id': '904647140', 'symbol': 'ethusd', 'exchange': 'gemini', 'avg_execution_price': '0.00', 'side': 'buy', 'type': 'exchange limit', 'timestamp': '1621450413', 'timestampms': 1621450413500, 'is_live': True, 'is_cancelled': False, 'is_hidden': False, 'was_forced': False, 'executed_amount': '0', 'options': [], 'price': '2630.55', 'original_amount': '1', 'remaining_amount': '1'}\n",
      "Order placed at 2021-05-19 20:53:36.097192\n"
     ]
    }
   ],
   "source": [
    "while True:\n",
    "    try:\n",
    "        response = requests.get(\"https://api.gemini.com/v1/pubticker/BTCUSD\").json()\n",
    "        btc_price = float(response['ask'])\n",
    "        print(btc_price)\n",
    "    except exception as e:\n",
    "        print('Error obtaining data')\n",
    "        \n",
    "    if btc_price >= 50000:\n",
    "        try:\n",
    "            response = requests.get(\"https://api.gemini.com/v1/pubticker/ETHUSD\").json()\n",
    "            eth_price = float(response['ask'])\n",
    "            print(eth_price)\n",
    "        except Exception as e:\n",
    "            print('Error obtaining data')\n",
    "            \n",
    "        t = datetime.datetime.now()\n",
    "        payload_nonce =  str(int(time.mktime(t.timetuple())*1000))  \n",
    "        \n",
    "        payload = {\n",
    "            \"request\": \"/v1/order/new\",\n",
    "            \"nonce\": payload_nonce,\n",
    "            \"symbol\": \"ethusd\",\n",
    "            \"amount\": \"1\",\n",
    "            \"price\": eth_price,\n",
    "            \"side\": \"buy\",\n",
    "            \"type\": \"exchange limit\",\n",
    "            \"account\": \"algotrading\"\n",
    "            }\n",
    "        \n",
    "        \n",
    "        try:\n",
    "            new_order = requests.post(url,\n",
    "                            data=None,\n",
    "                            headers=Auth(payload)).json()\n",
    "            print(new_order)\n",
    "            \n",
    "        except Exception as e:\n",
    "            print('Error placing order')\n",
    "            \n",
    "        print(new_order)\n",
    "\n",
    "        check_status = new_order['order_id']\n",
    "\n",
    "        sleep(2)\n",
    "\n",
    "        t = datetime.datetime.now()\n",
    "        payload_nonce =  str(int(time.mktime(t.timetuple())*1000))\n",
    "\n",
    "        payload1 = {\n",
    "            \"request\" : '/v1/order/status',\n",
    "            \"nonce\" : payload_nonce,\n",
    "            \"order_id\" : check_status,\n",
    "            \"account\" : \"algotrading\", \n",
    "        }\n",
    "        \n",
    "        try:  \n",
    "            check = requests.post(base_url + '/v1/order/status',\n",
    "                            data=None,\n",
    "                            headers=Auth(payload1)).json()\n",
    "            \n",
    "        except Exception as e:\n",
    "            print('Error checking order')\n",
    "\n",
    "        if str(check['is_live']) == 'True':\n",
    "            print ('Order placed at {}'.format(pd.Timestamp.now()))\n",
    "            break\n",
    "\n",
    "        else:\n",
    "            print('Order was canceled {}'.format(pd.Timestamp.now()))\n",
    "            break\n",
    "\n",
    "    else:\n",
    "        print('BTC did not reach the specified price')\n",
    "        sleep(10)\n",
    "        continue"
   ]
  }
 ],
 "metadata": {
  "kernelspec": {
   "display_name": "Python 3",
   "language": "python",
   "name": "python3"
  },
  "language_info": {
   "codemirror_mode": {
    "name": "ipython",
    "version": 3
   },
   "file_extension": ".py",
   "mimetype": "text/x-python",
   "name": "python",
   "nbconvert_exporter": "python",
   "pygments_lexer": "ipython3",
   "version": "3.8.3"
  }
 },
 "nbformat": 4,
 "nbformat_minor": 4
}
