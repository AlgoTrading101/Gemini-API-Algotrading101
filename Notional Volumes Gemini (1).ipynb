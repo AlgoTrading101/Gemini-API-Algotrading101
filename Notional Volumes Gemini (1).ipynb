{
 "cells": [
  {
   "cell_type": "code",
   "execution_count": 1,
   "metadata": {},
   "outputs": [],
   "source": [
    "import requests\n",
    "import hmac\n",
    "import json\n",
    "import base64\n",
    "import hashlib\n",
    "import pandas as pd\n",
    "import datetime, time\n",
    "from time import sleep"
   ]
  },
  {
   "cell_type": "code",
   "execution_count": 2,
   "metadata": {},
   "outputs": [],
   "source": [
    "gemini_api_key = \"master-2rJeGEcrQbx6OKXvSvLR\"\n",
    "gemini_api_secret = \"CZTk6cmFZgVPSnoHij22LZNFZ3S\".encode()"
   ]
  },
  {
   "cell_type": "code",
   "execution_count": 3,
   "metadata": {},
   "outputs": [],
   "source": [
    "t = datetime.datetime.now()\n",
    "payload_nonce =  str(int(time.mktime(t.timetuple())*1000))"
   ]
  },
  {
   "cell_type": "code",
   "execution_count": 4,
   "metadata": {},
   "outputs": [],
   "source": [
    "base_url = \"https://api.gemini.com\"\n",
    "endpoint = \"/v1/notionalvolume\"\n",
    "url = base_url + endpoint"
   ]
  },
  {
   "cell_type": "code",
   "execution_count": 5,
   "metadata": {},
   "outputs": [],
   "source": [
    "payload = {\n",
    "            \"request\": \"/v1/notionalvolume\",\n",
    "            \"nonce\": payload_nonce,\n",
    "            }\n",
    "\n",
    "encoded_payload = json.dumps(payload).encode()\n",
    "b64 = base64.b64encode(encoded_payload)\n",
    "signature = hmac.new(gemini_api_secret, b64, hashlib.sha384).hexdigest()\n",
    "        \n",
    "request_headers = { 'Content-Type': \"text/plain\",\n",
    "                    'Content-Length': \"0\",\n",
    "                    'X-GEMINI-APIKEY': gemini_api_key,\n",
    "                    'X-GEMINI-PAYLOAD': b64,\n",
    "                    'X-GEMINI-SIGNATURE': signature,\n",
    "                    'Cache-Control': \"no-cache\" }"
   ]
  },
  {
   "cell_type": "code",
   "execution_count": 6,
   "metadata": {},
   "outputs": [],
   "source": [
    "response = requests.post(url,\n",
    "                        data=None,\n",
    "                        headers=request_headers)"
   ]
  },
  {
   "cell_type": "code",
   "execution_count": 7,
   "metadata": {},
   "outputs": [
    {
     "data": {
      "text/plain": [
       "<Response [400]>"
      ]
     },
     "execution_count": 7,
     "metadata": {},
     "output_type": "execute_result"
    }
   ],
   "source": [
    "response"
   ]
  },
  {
   "cell_type": "code",
   "execution_count": null,
   "metadata": {},
   "outputs": [],
   "source": []
  }
 ],
 "metadata": {
  "kernelspec": {
   "display_name": "Python 3",
   "language": "python",
   "name": "python3"
  },
  "language_info": {
   "codemirror_mode": {
    "name": "ipython",
    "version": 3
   },
   "file_extension": ".py",
   "mimetype": "text/x-python",
   "name": "python",
   "nbconvert_exporter": "python",
   "pygments_lexer": "ipython3",
   "version": "3.8.3"
  }
 },
 "nbformat": 4,
 "nbformat_minor": 4
}
